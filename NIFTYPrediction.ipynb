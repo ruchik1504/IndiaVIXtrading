{
 "cells": [
  {
   "cell_type": "code",
   "execution_count": 3,
   "id": "9cc1d710-ae38-4d0f-a673-cb434b89cde7",
   "metadata": {},
   "outputs": [],
   "source": [
    "# Import necessary libraries\n",
    "import yfinance as yf\n",
    "import pandas as pd\n",
    "import numpy as np\n",
    "from sklearn.ensemble import RandomForestClassifier\n",
    "from sklearn.model_selection import train_test_split\n",
    "from sklearn.metrics import accuracy_score, classification_report\n",
    "from ta.trend import SMAIndicator, EMAIndicator, MACD\n",
    "from ta.momentum import RSIIndicator,StochasticOscillator\n",
    "from ta.volatility import BollingerBands\n",
    "from ta.volatility import AverageTrueRange\n",
    "from ta.volume import OnBalanceVolumeIndicator\n",
    "import warnings\n",
    "warnings.filterwarnings('ignore')"
   ]
  },
  {
   "cell_type": "code",
   "execution_count": 4,
   "id": "db429eb1-6256-4e87-ae4d-17e7b1739544",
   "metadata": {},
   "outputs": [],
   "source": [
    "def fetch_nifty_data(ticker=\"^NSEI\", start_date=\"2000-01-01\", end_date=\"2025-08-19\"):\n",
    "    df = yf.download(ticker, start=start_date, end=end_date)\n",
    "    return df[['Open', 'High', 'Low', 'Close', 'Volume']]\n",
    "\n",
    "# Step 2: Calculate technical indicators\n",
    "def calculate_technical_indicators(df):\n",
    "    # Simple Moving Average (SMA)\n",
    "    li = df['Close'].to_numpy().flatten()\n",
    "#    df['SMA_20'] = SMAIndicator(li, window=20).sma_indicator()\n",
    "    df['SMA_20'] = SMAIndicator(df['Close']['^NSEI'], window=20).sma_indicator()\n",
    "    df['SMA_50'] = SMAIndicator(df['Close']['^NSEI'], window=50).sma_indicator()\n",
    "    \n",
    "    # Exponential Moving Average (EMA)\n",
    "    df['EMA_12'] = EMAIndicator(df['Close']['^NSEI'], window=12).ema_indicator()\n",
    "    df['EMA_26'] = EMAIndicator(df['Close']['^NSEI'], window=26).ema_indicator()\n",
    "    \n",
    "    # Relative Strength Index (RSI)\n",
    "    df['RSI'] = RSIIndicator(df['Close']['^NSEI'], window=14).rsi()\n",
    "    \n",
    "    # MACD\n",
    "    macd = MACD(df['Close']['^NSEI'])\n",
    "    df['MACD'] = macd.macd()\n",
    "    df['MACD_Signal'] = macd.macd_signal()\n",
    "    \n",
    "    # Bollinger Bands\n",
    "    bb = BollingerBands(df['Close']['^NSEI'], window=20)\n",
    "    df['BB_High'] = bb.bollinger_hband()\n",
    "    df['BB_Low'] = bb.bollinger_lband()\n",
    "    \n",
    "    df['ATR'] = AverageTrueRange(df['High']['^NSEI'], df['Low']['^NSEI'], df['Close']['^NSEI'], window=14).average_true_range()\n",
    "    \n",
    "    stochastic = StochasticOscillator(df['High']['^NSEI'], df['Low']['^NSEI'], df['Close']['^NSEI'], window=14, smooth_window=3)\n",
    "    df['Stoch_K'] = stochastic.stoch()\n",
    "    df['Stoch_D'] = stochastic.stoch_signal()\n",
    "    df['OBV'] = OnBalanceVolumeIndicator(df['Close']['^NSEI'], df['Volume']['^NSEI']).on_balance_volume()\n",
    "    \n",
    "    return df\n",
    "\n",
    "def fetch_USDINR_data(ticker=\"INR=X\", start_date=\"2000-01-01\", end_date=\"2025-08-19\"):\n",
    "    df = yf.download(ticker, start=start_date, end=end_date)\n",
    "    return df[['Close']]\n",
    "\n",
    "def fetch_IndiaVIX_data(ticker=\"^INDIAVIX\", start_date=\"2000-01-01\", end_date=\"2025-08-19\"):\n",
    "    df = yf.download(ticker, start=start_date, end=end_date)\n",
    "    return df[['Close']]\n",
    "\n",
    "def fetch_crudeoil_data(ticker=\"CL=F\", start_date=\"2000-01-01\", end_date=\"2025-08-19\"):\n",
    "    df = yf.download(ticker, start=start_date, end=end_date)\n",
    "    return df[['Close']]\n",
    "\n",
    "def fetch_SP500_data(ticker=\"^GSPC\", start_date=\"2000-01-01\", end_date=\"2025-08-19\"):\n",
    "    df = yf.download(ticker, start=start_date, end=end_date)\n",
    "    return df[['Close']]\n",
    "\n",
    "\n",
    "def add_macro_indicators():\n",
    "\n",
    "    india_vix = fetch_IndiaVIX_data()['Close']\n",
    "    fx_rate = fetch_USDINR_data()['Close']\n",
    "    oil = fetch_crudeoil_data()['Close']\n",
    "    spx = fetch_SP500_data()['Close']\n",
    "    return india_vix,fx_rate,oil,spx"
   ]
  },
  {
   "cell_type": "code",
   "execution_count": 5,
   "id": "b24bc69e-fc82-4e22-a8ec-c76144f92ada",
   "metadata": {},
   "outputs": [
    {
     "name": "stderr",
     "output_type": "stream",
     "text": [
      "[*********************100%***********************]  1 of 1 completed\n",
      "[*********************100%***********************]  1 of 1 completed\n",
      "[*********************100%***********************]  1 of 1 completed\n",
      "[*********************100%***********************]  1 of 1 completed\n",
      "[*********************100%***********************]  1 of 1 completed\n"
     ]
    }
   ],
   "source": [
    "india_vix,fx_rate,oil,spx = add_macro_indicators()\n",
    "macro_data = pd.concat([india_vix,fx_rate,oil,spx], axis=1)\n",
    "nifty_data = fetch_nifty_data()\n",
    "technical_data = calculate_technical_indicators(nifty_data)\n",
    "input_data = pd.concat([technical_data,macro_data],axis = 1)\n",
    "input_data = input_data.dropna()\n",
    "input_data.columns = ['NSEI_Open','NSEI_High','NSEI_Low','NSEI_Close','NSEI_Volume','SMA_20','SMA_50','EMA_12','EMA_26','RSI','MACD','MACD_Signal','BB_High','BB_Low','ATR','Stoch_K','Stoch_D','OBV','INDIAVIX','FX_Rate','Oil','SP500']\n",
    "input_data = input_data[['SMA_20','SMA_50','EMA_12','EMA_26','RSI','MACD','MACD_Signal','BB_High','BB_Low','ATR','Stoch_K','Stoch_D','OBV','INDIAVIX','FX_Rate','NSEI_Close','Oil','SP500']]\n",
    "input_data['NIFTY_Next'] = input_data['NSEI_Close'].shift(-1)\n",
    "input_data['Target'] = (input_data['NIFTY_Next'] > input_data['NSEI_Close']).astype(int)\n",
    "del input_data['NSEI_Close']\n",
    "del input_data['NIFTY_Next']"
   ]
  },
  {
   "cell_type": "code",
   "execution_count": 71,
   "id": "607c6b2d-2a02-4fb7-a024-f3dc8e380353",
   "metadata": {},
   "outputs": [],
   "source": [
    "features = ['SMA_20',\n",
    "         #   'SMA_50',\n",
    "            'EMA_12',\n",
    "         #   'EMA_26',\n",
    "            'RSI',\n",
    "            'MACD',\n",
    "   #         'MACD_Signal',\n",
    "             'ATR',\n",
    "            'INDIAVIX',\n",
    "            'FX_Rate']\n",
    "   #         'Oil']\n",
    "X = input_data[features]\n",
    "y = input_data['Target']\n",
    "X_train, X_test, y_train, y_test = train_test_split(X, y, test_size=0.2, random_state=42, shuffle=False)\n",
    "\n",
    "# Initialize and train the model\n",
    "rf_model = RandomForestClassifier(n_estimators=100, max_depth=10, random_state=42)\n",
    "rf_model.fit(X_train, y_train)\n",
    "\n",
    "# Make predictions\n",
    "y_pred = rf_model.predict(X_test)\n",
    "df_test = y_test.to_frame()\n",
    "df_test['Predicted'] = y_pred\n",
    "df_test= df_test.reset_index()\n",
    "for i in range(0,len(df_test)):\n",
    "    if df_test.loc[i,'Target']==df_test.loc[i,'Predicted']:\n",
    "        df_test.loc[i,'Accurate'] = 1\n",
    "    else:\n",
    "        df_test.loc[i,'Accurate'] = 0"
   ]
  },
  {
   "cell_type": "code",
   "execution_count": 72,
   "id": "7933fb7c-51ab-48b0-bb52-90cc855ee9e5",
   "metadata": {},
   "outputs": [
    {
     "data": {
      "text/plain": [
       "np.float64(50.96852300242131)"
      ]
     },
     "execution_count": 72,
     "metadata": {},
     "output_type": "execute_result"
    }
   ],
   "source": [
    "accuracy = 100*(df_test['Accurate'].sum()/len(df_test))\n",
    "accuracy"
   ]
  },
  {
   "cell_type": "code",
   "execution_count": 73,
   "id": "3c8ca822-b07c-463c-8a67-e79e98f52850",
   "metadata": {},
   "outputs": [
    {
     "name": "stderr",
     "output_type": "stream",
     "text": [
      "[*********************100%***********************]  1 of 1 completed\n"
     ]
    }
   ],
   "source": [
    "df_test['Actual_Date'] = df_test['Date'].shift(-1)\n",
    "df_test = df_test[['Actual_Date','Target','Predicted','Accurate']]\n",
    "#df_test\n",
    "nifty_test = yf.download('^NSEI',start = df_test.loc[0,'Actual_Date'], end = df_test.loc[len(df_test)-2,'Actual_Date'])\n",
    "nifty_test = nifty_test['Close']['^NSEI']\n",
    "nifty_test = nifty_test.to_frame().reset_index()\n",
    "nifty_test.columns = ['Actual_Date','NIFTYClosing']\n",
    "df_test = df_test.merge(nifty_test,on=['Actual_Date'],how='left')\n",
    "#df_test\n",
    "portfolio = 100000\n",
    "for i in range(1,len(df_test)-2):\n",
    "    if df_test.loc[i-1,'Predicted']==0:\n",
    "        sell = df_test.loc[i-1,'NIFTYClosing']\n",
    "        buy = df_test.loc[i,'NIFTYClosing'] \n",
    "    else:\n",
    "        sell = df_test.loc[i,'NIFTYClosing']\n",
    "        buy = df_test.loc[i-1,'NIFTYClosing']\n",
    "    df_test.loc[i,'Returns'] = (sell/buy)-1\n",
    "    portfolio = portfolio*(sell/buy)"
   ]
  },
  {
   "cell_type": "code",
   "execution_count": 75,
   "id": "8e5f2e6b-c998-484b-87c2-fad1b480de8a",
   "metadata": {},
   "outputs": [
    {
     "data": {
      "text/plain": [
       "count    823.000000\n",
       "mean       0.000807\n",
       "std        0.008618\n",
       "min       -0.036779\n",
       "25%       -0.004431\n",
       "50%        0.000335\n",
       "75%        0.005619\n",
       "max        0.063031\n",
       "Name: Returns, dtype: float64"
      ]
     },
     "execution_count": 75,
     "metadata": {},
     "output_type": "execute_result"
    }
   ],
   "source": [
    "df_test['Returns'].describe()"
   ]
  },
  {
   "cell_type": "code",
   "execution_count": 74,
   "id": "bcf77edb-0e3f-458f-bfc7-5c4b13eecbb7",
   "metadata": {},
   "outputs": [
    {
     "data": {
      "text/plain": [
       "np.float64(188421.52906728315)"
      ]
     },
     "execution_count": 74,
     "metadata": {},
     "output_type": "execute_result"
    }
   ],
   "source": [
    "portfolio"
   ]
  },
  {
   "cell_type": "code",
   "execution_count": 77,
   "id": "31fc87aa-d1f0-45a0-b330-db963d6202d7",
   "metadata": {},
   "outputs": [
    {
     "data": {
      "text/plain": [
       "np.float64(1.0479325966677273)"
      ]
     },
     "execution_count": 77,
     "metadata": {},
     "output_type": "execute_result"
    }
   ],
   "source": [
    "sharpe = (252*0.000807-0.06)/(np.sqrt(252)*0.008618)\n",
    "sharpe"
   ]
  }
 ],
 "metadata": {
  "kernelspec": {
   "display_name": "Python 3 (ipykernel)",
   "language": "python",
   "name": "python3"
  },
  "language_info": {
   "codemirror_mode": {
    "name": "ipython",
    "version": 3
   },
   "file_extension": ".py",
   "mimetype": "text/x-python",
   "name": "python",
   "nbconvert_exporter": "python",
   "pygments_lexer": "ipython3",
   "version": "3.9.12"
  }
 },
 "nbformat": 4,
 "nbformat_minor": 5
}
