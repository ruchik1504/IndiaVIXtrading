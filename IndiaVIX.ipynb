{
 "cells": [
  {
   "cell_type": "code",
   "execution_count": 127,
   "id": "1ad1b0d0-1086-4226-a7e0-bcb635c24832",
   "metadata": {},
   "outputs": [],
   "source": [
    "import matplotlib.pyplot as plt\n",
    "import seaborn as sns\n",
    "import pandas as pd\n",
    "import yfinance as yf\n",
    "from sklearn.ensemble import RandomForestClassifier\n",
    "from sklearn.preprocessing import StandardScaler\n",
    "import numpy as np\n",
    "import talib\n",
    "sns.set()"
   ]
  },
  {
   "cell_type": "markdown",
   "id": "b4d55db1-d27c-4e26-825b-1eb3b888b9c1",
   "metadata": {},
   "source": [
    "## Fetching the Data from Yahoo Finance"
   ]
  },
  {
   "cell_type": "code",
   "execution_count": 155,
   "id": "c9afe9ed-1512-4645-be7e-7a188974f8e2",
   "metadata": {},
   "outputs": [
    {
     "name": "stderr",
     "output_type": "stream",
     "text": [
      "C:\\Users\\HP 1030\\AppData\\Local\\Temp\\ipykernel_13884\\2487781888.py:2: FutureWarning: YF.download() has changed argument auto_adjust default to True\n",
      "  vix_data = yf.download('^INDIAVIX', start='2014-01-01', end='2025-08-04')['Close']\n",
      "[*********************100%***********************]  1 of 1 completed\n",
      "C:\\Users\\HP 1030\\AppData\\Local\\Temp\\ipykernel_13884\\2487781888.py:3: FutureWarning: YF.download() has changed argument auto_adjust default to True\n",
      "  nifty_data = yf.download('^NSEI', start='2014-01-01', end='2025-08-04')\n",
      "[*********************100%***********************]  1 of 1 completed\n"
     ]
    }
   ],
   "source": [
    "## Fetch the Data from Yahoo Finance\n",
    "vix_data = yf.download('^INDIAVIX', start='2014-01-01', end='2025-08-04')['Close']\n",
    "nifty_data = yf.download('^NSEI', start='2014-01-01', end='2025-08-04')"
   ]
  },
  {
   "cell_type": "markdown",
   "id": "eed91503-b1d7-4791-aa9d-b584cfc8f0f5",
   "metadata": {},
   "source": [
    "## Cleaning the Data and generating features"
   ]
  },
  {
   "cell_type": "code",
   "execution_count": 156,
   "id": "2e3bece0-f7ed-43ca-aa29-5504e134c6c4",
   "metadata": {},
   "outputs": [
    {
     "name": "stderr",
     "output_type": "stream",
     "text": [
      "C:\\Users\\HP 1030\\AppData\\Local\\Temp\\ipykernel_13884\\1594671293.py:12: SettingWithCopyWarning: \n",
      "A value is trying to be set on a copy of a slice from a DataFrame.\n",
      "Try using .loc[row_indexer,col_indexer] = value instead\n",
      "\n",
      "See the caveats in the documentation: https://pandas.pydata.org/pandas-docs/stable/user_guide/indexing.html#returning-a-view-versus-a-copy\n",
      "  nifty_close['Date1'] = nifty_close.index\n",
      "C:\\Users\\HP 1030\\AppData\\Local\\Temp\\ipykernel_13884\\1594671293.py:15: SettingWithCopyWarning: \n",
      "A value is trying to be set on a copy of a slice from a DataFrame.\n",
      "Try using .loc[row_indexer,col_indexer] = value instead\n",
      "\n",
      "See the caveats in the documentation: https://pandas.pydata.org/pandas-docs/stable/user_guide/indexing.html#returning-a-view-versus-a-copy\n",
      "  nifty_close['rsi'] = rsi              #Calculate NIFTY RSI\n",
      "C:\\Users\\HP 1030\\AppData\\Local\\Temp\\ipykernel_13884\\1594671293.py:17: SettingWithCopyWarning: \n",
      "A value is trying to be set on a copy of a slice from a DataFrame.\n",
      "Try using .loc[row_indexer,col_indexer] = value instead\n",
      "\n",
      "See the caveats in the documentation: https://pandas.pydata.org/pandas-docs/stable/user_guide/indexing.html#returning-a-view-versus-a-copy\n",
      "  nifty_close['macd'] = macd\n"
     ]
    }
   ],
   "source": [
    "## Clean the data\n",
    "vix_series = vix_data.dropna()\n",
    "nifty_close = nifty_data['Close']\n",
    "nifty_volume = nifty_data['Volume']\n",
    "features = pd.DataFrame(index=vix_series.index)\n",
    "features['vix_lag1'] = vix_series.shift(1)   #Feature : INDIAVIX value today\n",
    "features['vix_roll_mean'] = vix_series.rolling(5).mean().shift(1) # 5 day rolling mean of INDIAVIX\n",
    "features['vix_roll_std'] = vix_series.rolling(5).std().shift(1)  # 5 day Volatility of INDIAVIX\n",
    "features['nifty_ret'] = nifty_close.pct_change().shift(1)  #NIFTY 1 day return\n",
    "features['nifty_vol'] = nifty_close.pct_change().rolling(5).std().shift(1) #NIFTY 5 day Volatility\n",
    "features['Date1'] = features.index  # Creating the Date column\n",
    "nifty_close['Date1'] = nifty_close.index\n",
    "li = nifty_close['^NSEI'].to_numpy()\n",
    "rsi = talib.RSI(li, timeperiod=14)\n",
    "nifty_close['rsi'] = rsi              #Calculate NIFTY RSI\n",
    "macd,_,_ = talib.MACD(li,fastperiod=12, slowperiod=26, signalperiod=9)  #Calculate NIFTY MACD\n",
    "nifty_close['macd'] = macd\n",
    "\n",
    "#Just some data cleaning\n",
    "nifty_close = nifty_close[['Date1','rsi','macd']]\n",
    "nifty_close['rsi'] = nifty_close['rsi'].shift(1)\n",
    "#nifty_close['macd'] = nifty_close['macd'].shift(1)\n",
    "features = features.merge(nifty_close,on=['Date1'],how='left')\n",
    "\n",
    "# More Data Cleaning\n",
    "nifty_volume = nifty_volume.shift(1)\n",
    "nifty_volume['Date1'] = nifty_volume.index\n",
    "nifty_volume['volume'] = nifty_volume['^NSEI']\n",
    "nifty_volume = nifty_volume[['Date1','volume']]\n",
    "features = features.merge(nifty_volume,on=['Date1'],how='left')\n",
    "features = features.drop(columns=['Date1'])\n",
    "vix_series = vix_series.reset_index()\n",
    "vix_series = vix_series[['^INDIAVIX','Date']]\n",
    "#vix_series"
   ]
  },
  {
   "cell_type": "markdown",
   "id": "e3e2e830-4510-4816-8ef0-24ebad87ee76",
   "metadata": {},
   "source": [
    "## Training the Random Forest Model"
   ]
  },
  {
   "cell_type": "code",
   "execution_count": 157,
   "id": "7a73fdef-48cf-40d1-95d9-02ca9f4616d5",
   "metadata": {},
   "outputs": [],
   "source": [
    "feature = ['vix_lag1','vix_roll_mean','vix_roll_std','nifty_ret','nifty_vol','rsi','macd','volume']"
   ]
  },
  {
   "cell_type": "code",
   "execution_count": 158,
   "id": "3dc628a7-5ffc-4741-ae3d-7ce06a46a680",
   "metadata": {},
   "outputs": [
    {
     "name": "stderr",
     "output_type": "stream",
     "text": [
      "C:\\Users\\HP 1030\\anaconda3\\lib\\site-packages\\sklearn\\base.py:1474: DataConversionWarning: A column-vector y was passed when a 1d array was expected. Please change the shape of y to (n_samples,), for example using ravel().\n",
      "  return fit_method(estimator, *args, **kwargs)\n"
     ]
    }
   ],
   "source": [
    "vix_series['Change'] = (vix_series['^INDIAVIX'] - vix_series['^INDIAVIX'].shift(1)) > 0  #Calculating if INDIAVIX increased or decreased in value\n",
    "vix_series = vix_series[['Change','Date']]\n",
    "features = features.dropna()\n",
    "target = vix_series.loc[features.index]  # Predict VIX level\n",
    "target1 = target\n",
    "\n",
    "# Output Variable\n",
    "target = target[['Change']]\n",
    "target1['Index'] = target1.index\n",
    "\n",
    "# Training the Random Forest Model\n",
    "train_size = int(len(features) * 0.7)\n",
    "features = features[feature]\n",
    "X_train, X_test = features[:train_size], features[train_size:]\n",
    "y_train, y_test = target[:train_size], target[train_size:]\n",
    "\n",
    "# Normalizing the features\n",
    "scaler = StandardScaler()\n",
    "X_train_scaled = scaler.fit_transform(X_train)\n",
    "X_test_scaled = scaler.transform(X_test)\n",
    "\n",
    "# Fit Random Forest\n",
    "model = RandomForestClassifier(n_estimators=100, max_depth=10, random_state=42)\n",
    "model.fit(X_train_scaled, y_train)\n",
    "y_pred = model.predict_proba(X_test_scaled)"
   ]
  },
  {
   "cell_type": "markdown",
   "id": "7a51c82e-26ef-4357-bcf0-a4cff5058cac",
   "metadata": {},
   "source": [
    "## Analyzing the model output and performing the backtest"
   ]
  },
  {
   "cell_type": "code",
   "execution_count": 159,
   "id": "8988fc2c-9af8-4b09-bf08-763815a20e3f",
   "metadata": {},
   "outputs": [
    {
     "name": "stderr",
     "output_type": "stream",
     "text": [
      "C:\\Users\\HP 1030\\AppData\\Local\\Temp\\ipykernel_13884\\2688722325.py:19: FutureWarning: YF.download() has changed argument auto_adjust default to True\n",
      "  vix_data = yf.download('^INDIAVIX', start='2022-03-03', end='2025-08-02')\n",
      "[*********************100%***********************]  1 of 1 completed\n"
     ]
    },
    {
     "data": {
      "text/plain": [
       "np.float64(56.904761904761905)"
      ]
     },
     "execution_count": 159,
     "metadata": {},
     "output_type": "execute_result"
    }
   ],
   "source": [
    "y_test = y_test[['Change']]\n",
    "y_test['Index'] = y_test.index\n",
    "y_test = y_test.merge(target1,on='Index',how='left')\n",
    "y_test = y_test[['Change_x','Date']]\n",
    "y_test.columns = ['Change','Date']\n",
    "#y_test = y_test[['Change']]\n",
    "y_test = y_test.reset_index(drop=True)\n",
    "for i in range(0,len(y_test)):\n",
    "#for i in range(0,1):\n",
    "    if y_pred[i][0] >= 0.5:\n",
    "        y_test.loc[i,'Predicted'] = False\n",
    " #       print(1)\n",
    "    elif y_pred[i][1] >= 0.5:\n",
    "        y_test.loc[i,'Predicted'] = True\n",
    " #       print(2)\n",
    "    else:\n",
    "        y_test.loc[i,'Predicted'] = 'Not Clear'\n",
    " #       print(3)\n",
    "vix_data = yf.download('^INDIAVIX', start='2022-03-03', end='2025-08-02')\n",
    "vix_data['Date'] = vix_data.index\n",
    "vix_data = vix_data[['Close','High','Low','Open','Date']]\n",
    "vix_data.columns = ['Close','High','Low','Open','Date']\n",
    "vix_data = vix_data.reset_index(drop=True)\n",
    "y_test1 = y_test[y_test['Predicted'] != 'Not Clear'].reset_index(drop=True)\n",
    "y_test = y_test.merge(vix_data,on=['Date'],how='left')\n",
    "\n",
    "y_test1 = y_test1.reset_index(drop=True)\n",
    "for i in range(0,len(y_test1)):\n",
    "    if y_test1.loc[i,'Change']==y_test1.loc[i,'Predicted']:\n",
    "        y_test1.loc[i,'Accurate'] = 1\n",
    "    else:\n",
    "        y_test1.loc[i,'Accurate'] = 0\n",
    "accuracy = 100*y_test1['Accurate'].sum()/len(y_test1)\n",
    "accuracy"
   ]
  },
  {
   "cell_type": "markdown",
   "id": "c92f7af5-6b30-42b4-9399-e1adccb60cfd",
   "metadata": {},
   "source": [
    "## Simulating the portfolio and analyzing the distribution returns"
   ]
  },
  {
   "cell_type": "code",
   "execution_count": 160,
   "id": "23df73a5-e880-42f5-ae35-7db623fdb843",
   "metadata": {},
   "outputs": [
    {
     "data": {
      "text/html": [
       "<div>\n",
       "<style scoped>\n",
       "    .dataframe tbody tr th:only-of-type {\n",
       "        vertical-align: middle;\n",
       "    }\n",
       "\n",
       "    .dataframe tbody tr th {\n",
       "        vertical-align: top;\n",
       "    }\n",
       "\n",
       "    .dataframe thead th {\n",
       "        text-align: right;\n",
       "    }\n",
       "</style>\n",
       "<table border=\"1\" class=\"dataframe\">\n",
       "  <thead>\n",
       "    <tr style=\"text-align: right;\">\n",
       "      <th></th>\n",
       "      <th>Change</th>\n",
       "      <th>Date</th>\n",
       "      <th>Predicted</th>\n",
       "      <th>Close</th>\n",
       "      <th>High</th>\n",
       "      <th>Low</th>\n",
       "      <th>Open</th>\n",
       "      <th>Portfolio</th>\n",
       "      <th>Returns</th>\n",
       "    </tr>\n",
       "  </thead>\n",
       "  <tbody>\n",
       "    <tr>\n",
       "      <th>835</th>\n",
       "      <td>True</td>\n",
       "      <td>2025-07-28</td>\n",
       "      <td>True</td>\n",
       "      <td>12.06</td>\n",
       "      <td>12.23</td>\n",
       "      <td>10.33</td>\n",
       "      <td>11.28</td>\n",
       "      <td>481019.187978</td>\n",
       "      <td>0.064352</td>\n",
       "    </tr>\n",
       "    <tr>\n",
       "      <th>836</th>\n",
       "      <td>False</td>\n",
       "      <td>2025-07-29</td>\n",
       "      <td>False</td>\n",
       "      <td>11.53</td>\n",
       "      <td>12.30</td>\n",
       "      <td>11.40</td>\n",
       "      <td>12.06</td>\n",
       "      <td>500900.974724</td>\n",
       "      <td>0.041333</td>\n",
       "    </tr>\n",
       "    <tr>\n",
       "      <th>837</th>\n",
       "      <td>False</td>\n",
       "      <td>2025-07-30</td>\n",
       "      <td>True</td>\n",
       "      <td>11.21</td>\n",
       "      <td>11.78</td>\n",
       "      <td>10.61</td>\n",
       "      <td>11.53</td>\n",
       "      <td>484761.752564</td>\n",
       "      <td>-0.032220</td>\n",
       "    </tr>\n",
       "    <tr>\n",
       "      <th>838</th>\n",
       "      <td>True</td>\n",
       "      <td>2025-07-31</td>\n",
       "      <td>True</td>\n",
       "      <td>11.54</td>\n",
       "      <td>12.12</td>\n",
       "      <td>11.21</td>\n",
       "      <td>11.21</td>\n",
       "      <td>496743.039014</td>\n",
       "      <td>0.024716</td>\n",
       "    </tr>\n",
       "    <tr>\n",
       "      <th>839</th>\n",
       "      <td>True</td>\n",
       "      <td>2025-08-01</td>\n",
       "      <td>False</td>\n",
       "      <td>11.98</td>\n",
       "      <td>12.11</td>\n",
       "      <td>11.40</td>\n",
       "      <td>11.54</td>\n",
       "      <td>476367.829522</td>\n",
       "      <td>-0.041018</td>\n",
       "    </tr>\n",
       "  </tbody>\n",
       "</table>\n",
       "</div>"
      ],
      "text/plain": [
       "     Change       Date Predicted  Close   High    Low   Open      Portfolio  \\\n",
       "835    True 2025-07-28      True  12.06  12.23  10.33  11.28  481019.187978   \n",
       "836   False 2025-07-29     False  11.53  12.30  11.40  12.06  500900.974724   \n",
       "837   False 2025-07-30      True  11.21  11.78  10.61  11.53  484761.752564   \n",
       "838    True 2025-07-31      True  11.54  12.12  11.21  11.21  496743.039014   \n",
       "839    True 2025-08-01     False  11.98  12.11  11.40  11.54  476367.829522   \n",
       "\n",
       "      Returns  \n",
       "835  0.064352  \n",
       "836  0.041333  \n",
       "837 -0.032220  \n",
       "838  0.024716  \n",
       "839 -0.041018  "
      ]
     },
     "execution_count": 160,
     "metadata": {},
     "output_type": "execute_result"
    }
   ],
   "source": [
    "initial_value = 100000\n",
    "slippage = 0.025\n",
    "transaction_cost = 100\n",
    "for i in range(0,len(y_test)):\n",
    "    if y_test.loc[i,'Predicted']==False:\n",
    "        initial_value = initial_value*((y_test.loc[i,'Open']-slippage)/(y_test.loc[i,'Close']+slippage))-transaction_cost\n",
    "        y_test.loc[i,'Portfolio'] = initial_value\n",
    "        if i==0:\n",
    "            y_test.loc[i,'Returns'] = (y_test.loc[i,'Portfolio']/100000)-1\n",
    "        else:\n",
    "            y_test.loc[i,'Returns'] = (y_test.loc[i,'Portfolio']/y_test.loc[i-1,'Portfolio'])-1\n",
    "    elif y_test.loc[i,'Predicted']==True:\n",
    "        initial_value = initial_value*((y_test.loc[i,'Close']-slippage)/(y_test.loc[i,'Open']+slippage))-transaction_cost\n",
    "        y_test.loc[i,'Portfolio'] = initial_value\n",
    "        if i==0:\n",
    "            y_test.loc[i,'Returns'] = (y_test.loc[i,'Portfolio']/100000)-1\n",
    "        else:\n",
    "            y_test.loc[i,'Returns'] = (y_test.loc[i,'Portfolio']/y_test.loc[i-1,'Portfolio'])-1\n",
    "    else:\n",
    "        y_test.loc[i,'Portfolio'] = initial_value\n",
    "        y_test.loc[i,'Returns'] = 0.0\n",
    "y_test.tail()  "
   ]
  },
  {
   "cell_type": "code",
   "execution_count": 161,
   "id": "7202ef3d-8513-40b7-a14d-250032bc2e40",
   "metadata": {},
   "outputs": [
    {
     "data": {
      "text/plain": [
       "count    840.000000\n",
       "mean       0.003170\n",
       "std        0.050706\n",
       "min       -0.398221\n",
       "25%       -0.022908\n",
       "50%        0.002743\n",
       "75%        0.028542\n",
       "max        0.412646\n",
       "Name: Returns, dtype: float64"
      ]
     },
     "execution_count": 161,
     "metadata": {},
     "output_type": "execute_result"
    }
   ],
   "source": [
    "y_test['Returns'].describe()"
   ]
  },
  {
   "cell_type": "code",
   "execution_count": 96,
   "id": "61f08f52-cb58-4370-b05b-7fc687b42fab",
   "metadata": {},
   "outputs": [
    {
     "data": {
      "text/plain": [
       "np.float64(0.6098913000156766)"
      ]
     },
     "execution_count": 96,
     "metadata": {},
     "output_type": "execute_result"
    }
   ],
   "source": [
    "sharpe = (252*(0.00219)-0.06)/(np.sqrt(252)*0.050805)\n",
    "sharpe"
   ]
  },
  {
   "cell_type": "code",
   "execution_count": 162,
   "id": "8d6e9ef2-79c6-40f6-bd70-5d4c6f5bc77a",
   "metadata": {},
   "outputs": [
    {
     "data": {
      "text/plain": [
       "[<matplotlib.lines.Line2D at 0x1e98ed12190>]"
      ]
     },
     "execution_count": 162,
     "metadata": {},
     "output_type": "execute_result"
    },
    {
     "data": {
      "image/png": "[encoded data removed]",
      "text/plain": [
       "<Figure size 864x504 with 1 Axes>"
      ]
     },
     "metadata": {},
     "output_type": "display_data"
    }
   ],
   "source": [
    "plt.figure(figsize=(12,7))\n",
    "plt.xlabel('Date',fontsize=15)\n",
    "plt.ylabel('Portfolio Value (in INR)',fontsize=15)\n",
    "plt.title('Portfolio Evolution on INDIAVIX Strategy',fontsize=18)\n",
    "plt.xticks(fontsize=14)\n",
    "plt.yticks(fontsize=14)\n",
    "plt.plot(y_test['Date'],y_test['Portfolio'])"
   ]
  }
 ],
 "metadata": {
  "kernelspec": {
   "display_name": "Python 3 (ipykernel)",
   "language": "python",
   "name": "python3"
  },
  "language_info": {
   "codemirror_mode": {
    "name": "ipython",
    "version": 3
   },
   "file_extension": ".py",
   "mimetype": "text/x-python",
   "name": "python",
   "nbconvert_exporter": "python",
   "pygments_lexer": "ipython3",
   "version": "3.9.12"
  }
 },
 "nbformat": 4,
 "nbformat_minor": 5
}
